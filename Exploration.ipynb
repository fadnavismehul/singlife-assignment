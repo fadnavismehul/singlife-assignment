{
 "cells": [
  {
   "cell_type": "code",
   "execution_count": null,
   "id": "c17c2f0e-9e7e-4a4b-9fa3-a9363af137af",
   "metadata": {},
   "outputs": [],
   "source": []
  }
 ],
 "metadata": {
  "kernelspec": {
   "display_name": "",
   "name": ""
  },
  "language_info": {
   "name": ""
  }
 },
 "nbformat": 4,
 "nbformat_minor": 5
}
